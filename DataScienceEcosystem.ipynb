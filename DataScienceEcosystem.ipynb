{
 "cells": [
  {
   "cell_type": "markdown",
   "id": "ad4e4378-0df1-46f1-8d53-33a599fd6365",
   "metadata": {},
   "source": [
    "## H1 Data Science Tools and Ecosystem"
   ]
  },
  {
   "cell_type": "markdown",
   "id": "00d6d6df-be93-4a06-bcda-725c47cb9aa5",
   "metadata": {},
   "source": [
    "In this notebook, Data Science Tools and Ecosystem are summarized."
   ]
  },
  {
   "cell_type": "markdown",
   "id": "c64c8720-f765-458c-92c8-0c21539fc5de",
   "metadata": {},
   "source": [
    "Some of the popular languages that Data Scientists use are:\n",
    "1. Python\n",
    "2. R\n",
    "3. Julia\n",
    "4. C++\n",
    "5. C\n",
    "6. Java\n",
    "7. SQL\n",
    "8. VBA"
   ]
  },
  {
   "cell_type": "markdown",
   "id": "342e8166-ca86-4b14-984c-3f7f007a5c51",
   "metadata": {},
   "source": [
    "Some of the commonly used libraries used by Data Scientists include:\n",
    "1. Numpy\n",
    "2. Matplotlib\n",
    "3. Pandas"
   ]
  },
  {
   "cell_type": "markdown",
   "id": "f95a0e68-5f6c-44b5-8e51-1948b1b77497",
   "metadata": {},
   "source": [
    "| Data Science Tools |\n",
    "| ------------------ |\n",
    "| Apache spark |\n",
    "| Jupyter |\n",
    "| Tensorflow |"
   ]
  },
  {
   "cell_type": "markdown",
   "id": "3e399558-332b-436e-b6bc-c9a16ff7c1af",
   "metadata": {},
   "source": [
    "### Below are a few examples of evaluating arithmetic expressions in Python"
   ]
  },
  {
   "cell_type": "code",
   "execution_count": 7,
   "id": "787fdc66-1c7f-4702-baba-8aaab52c0a06",
   "metadata": {},
   "outputs": [
    {
     "data": {
      "text/plain": [
       "17"
      ]
     },
     "execution_count": 7,
     "metadata": {},
     "output_type": "execute_result"
    }
   ],
   "source": [
    "##This a simple arithmetic expression to mutiply then add integers\n",
    "(3*4)+5"
   ]
  },
  {
   "cell_type": "code",
   "execution_count": 10,
   "id": "a56c7d62-a184-4eb4-89ea-e1bac7c0059a",
   "metadata": {},
   "outputs": [
    {
     "name": "stdout",
     "output_type": "stream",
     "text": [
      "3\n"
     ]
    }
   ],
   "source": [
    "##This will convert 200 minutes to hours by diving by 60\n",
    "hours,minutes = divmod(200,60)\n",
    "print(hours)"
   ]
  },
  {
   "cell_type": "markdown",
   "id": "f452fba4-676c-4556-abeb-68d3cbd44cec",
   "metadata": {},
   "source": [
    "__Markdown__\n",
    "- List popular languages for Data Science\n",
    "- List Commonly used libraries by Data Scientists\n",
    "- Arithmetic expressions in Python"
   ]
  },
  {
   "cell_type": "markdown",
   "id": "0c616a53-5ac1-4d4a-84ea-59f3311d8734",
   "metadata": {},
   "source": [
    "## Author\n",
    "Tintu Scaria"
   ]
  },
  {
   "cell_type": "code",
   "execution_count": null,
   "id": "164d052c-5c17-4dd1-9437-f9c54d23725a",
   "metadata": {},
   "outputs": [],
   "source": []
  }
 ],
 "metadata": {
  "kernelspec": {
   "display_name": "Python 3 (ipykernel)",
   "language": "python",
   "name": "python3"
  },
  "language_info": {
   "codemirror_mode": {
    "name": "ipython",
    "version": 3
   },
   "file_extension": ".py",
   "mimetype": "text/x-python",
   "name": "python",
   "nbconvert_exporter": "python",
   "pygments_lexer": "ipython3",
   "version": "3.12.5"
  }
 },
 "nbformat": 4,
 "nbformat_minor": 5
}
